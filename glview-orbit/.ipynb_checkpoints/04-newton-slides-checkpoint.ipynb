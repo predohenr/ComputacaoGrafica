{
 "cells": [
  {
   "cell_type": "markdown",
   "metadata": {
    "slideshow": {
     "slide_type": "slide"
    }
   },
   "source": [
    "# Método de Newton"
   ]
  },
  {
   "cell_type": "markdown",
   "metadata": {},
   "source": [
    "![](https://upload.wikimedia.org/wikipedia/commons/thumb/b/bf/Newtroot_1_0_0_0_0_m1.png/240px-Newtroot_1_0_0_0_0_m1.png)"
   ]
  },
  {
   "cell_type": "markdown",
   "metadata": {
    "slideshow": {
     "slide_type": "-"
    }
   },
   "source": [
    "Vicente Helano  \n",
    "UFCA | Centro de Ciências e Tecnologia"
   ]
  },
  {
   "cell_type": "markdown",
   "metadata": {
    "slideshow": {
     "slide_type": "slide"
    }
   },
   "source": [
    "# Método de Newton"
   ]
  },
  {
   "cell_type": "markdown",
   "metadata": {},
   "source": [
    "Considere uma equação da forma $f(x) = 0$ e uma possível formulação de ponto fixo $x = g(x)$.\n",
    "Isto é, se $\\xi$ for um zero de $f$ em $[a,b]$, então $g(\\xi) = \\xi$."
   ]
  },
  {
   "cell_type": "markdown",
   "metadata": {
    "slideshow": {
     "slide_type": "fragment"
    }
   },
   "source": [
    "Suponha que $g$ satisfaz aos teoremas de existência e unicidade de ponto fixo em $[a,b]$.\n",
    "Sejam $x_0, x_1, x_2, \\dotsc, x_n, x_{n+1}$ aproximações obtidas pela iteração de ponto fixo $x_{n+1} = g(x_n)$, com $x_0 \\in [a,b]$."
   ]
  },
  {
   "cell_type": "markdown",
   "metadata": {
    "slideshow": {
     "slide_type": "slide"
    }
   },
   "source": [
    "# Método de Newton"
   ]
  },
  {
   "cell_type": "markdown",
   "metadata": {},
   "source": [
    "Por nossas hipóteses, sabemos que:"
   ]
  },
  {
   "cell_type": "markdown",
   "metadata": {},
   "source": [
    "$$\n",
    "\\left|x_{n+1} - \\xi\\right| = \\left|g(x_n) - g(\\xi)\\right|\n",
    "$$"
   ]
  },
  {
   "cell_type": "markdown",
   "metadata": {
    "slideshow": {
     "slide_type": "fragment"
    }
   },
   "source": [
    "O teorema do valor médio nos assegura que existe $\\alpha_n$ localizado entre $x_n$ e $\\xi$ tal que:"
   ]
  },
  {
   "cell_type": "markdown",
   "metadata": {
    "slideshow": {
     "slide_type": "-"
    }
   },
   "source": [
    "$$\n",
    "g(x_n) - g(\\xi) = g'(\\alpha_n)(x_n - \\xi)\n",
    "$$"
   ]
  },
  {
   "cell_type": "markdown",
   "metadata": {
    "slideshow": {
     "slide_type": "slide"
    }
   },
   "source": [
    "# Método de Newton"
   ]
  },
  {
   "cell_type": "markdown",
   "metadata": {},
   "source": [
    "Logo, podemos concluir que:"
   ]
  },
  {
   "cell_type": "markdown",
   "metadata": {},
   "source": [
    "$$\n",
    "\\left|x_{n+1} - \\xi\\right| = \\left|g'(\\alpha_n)\\right|\\left|x_n - \\xi\\right|\n",
    "$$"
   ]
  },
  {
   "cell_type": "markdown",
   "metadata": {
    "slideshow": {
     "slide_type": "fragment"
    }
   },
   "source": [
    "Dividindo ambos os lados por $\\left|x_n - \\xi\\right|$, obtemos:"
   ]
  },
  {
   "cell_type": "markdown",
   "metadata": {},
   "source": [
    "\\begin{equation}\n",
    "\\frac{\\left|x_{n+1} - \\xi\\right|}{\\left|x_n - \\xi\\right|} = \\left|g'(\\alpha_n)\\right|\n",
    "\\end{equation}"
   ]
  },
  {
   "cell_type": "markdown",
   "metadata": {
    "slideshow": {
     "slide_type": "slide"
    }
   },
   "source": [
    "# Método de Newton"
   ]
  },
  {
   "cell_type": "markdown",
   "metadata": {},
   "source": [
    "Tomando o limite em ambos os lados, teremos"
   ]
  },
  {
   "cell_type": "markdown",
   "metadata": {},
   "source": [
    "$$\n",
    "\\lim_{n\\to+\\infty}\\frac{\\left|x_{n+1} - \\xi\\right|}{\\left|x_n - \\xi\\right|} = \\lim_{n\\to+\\infty}\\left|g'(\\alpha_n)\\right| = \\left|g'(\\xi)\\right|\n",
    "$$"
   ]
  },
  {
   "cell_type": "markdown",
   "metadata": {
    "slideshow": {
     "slide_type": "fragment"
    }
   },
   "source": [
    "Como o teorema de unicidade do ponto fixo é atendido, temos assegurado que $|g^\\prime (x)| < 1$, para todo $x \\in (a,b)$.\n",
    "Logo, $\\left|g'(\\xi)\\right| < 1$ e, com isso, o erro correspondente a $x_{n+1}$ será menor do que o erro de $x_n$."
   ]
  },
  {
   "cell_type": "markdown",
   "metadata": {
    "slideshow": {
     "slide_type": "slide"
    }
   },
   "source": [
    "# Método de Newton"
   ]
  },
  {
   "cell_type": "markdown",
   "metadata": {},
   "source": [
    "Observe que quanto menor for $\\left|g'(\\xi)\\right|$, maior será a redução que teremos no erro absoluto de um passo para outro, para valores grandes de $n$.\n",
    "O método de Newton nos fornece justamente uma forma geral para a construção de uma função de ponto fixo $g$ de modo que $\\left|g'(\\xi)\\right|$ é igual a **zero**!"
   ]
  },
  {
   "cell_type": "markdown",
   "metadata": {
    "slideshow": {
     "slide_type": "slide"
    }
   },
   "source": [
    "## Função de iteração de Newton"
   ]
  },
  {
   "cell_type": "markdown",
   "metadata": {},
   "source": [
    "A função de ponto fixo do método de Newton é:"
   ]
  },
  {
   "cell_type": "markdown",
   "metadata": {},
   "source": [
    "$$\n",
    "g(x) = x - \\frac{f(x)}{f'(x)}\n",
    "$$"
   ]
  },
  {
   "cell_type": "markdown",
   "metadata": {},
   "source": [
    "cuja derivada vale:"
   ]
  },
  {
   "cell_type": "markdown",
   "metadata": {},
   "source": [
    "$$\n",
    "g'(x) = \\frac{f(x) f''(x)}{\\left[f'(x)\\right]^2}\n",
    "$$"
   ]
  },
  {
   "cell_type": "markdown",
   "metadata": {
    "slideshow": {
     "slide_type": "fragment"
    }
   },
   "source": [
    "Se $\\xi$ for um zero de $f$ com multiplicidade 1, isto é, $f'(\\xi) \\ne 0$, é fácil ver que $g'(\\xi) = 0$, conforme esperado."
   ]
  },
  {
   "cell_type": "markdown",
   "metadata": {
    "slideshow": {
     "slide_type": "slide"
    }
   },
   "source": [
    "## Função de iteração de Newton"
   ]
  },
  {
   "cell_type": "markdown",
   "metadata": {},
   "source": [
    "Dado $x_0 \\in [a,b]$, a sequência $x_{n+1} = g(x_n)$ associada ao método de Newton possui a forma:"
   ]
  },
  {
   "cell_type": "markdown",
   "metadata": {},
   "source": [
    "$$\n",
    "x_{n+1} = x_n - \\frac{f(x_n)}{f'(x_n)}\n",
    "$$"
   ]
  },
  {
   "cell_type": "markdown",
   "metadata": {
    "slideshow": {
     "slide_type": "slide"
    }
   },
   "source": [
    "## Convergência"
   ]
  },
  {
   "cell_type": "markdown",
   "metadata": {},
   "source": [
    "$$\n",
    "x_{n+1} = x_n - \\frac{f(x_n)}{f'(x_n)}\n",
    "$$"
   ]
  },
  {
   "cell_type": "markdown",
   "metadata": {},
   "source": [
    "Observe que para podermos aplicar a função de iteração de Newton, precisamos ter $f'(\\xi) \\ne 0$.\n",
    "Outras condições são apresentadas no teorema a seguir."
   ]
  },
  {
   "cell_type": "markdown",
   "metadata": {
    "slideshow": {
     "slide_type": "slide"
    }
   },
   "source": [
    "## Convergência"
   ]
  },
  {
   "cell_type": "markdown",
   "metadata": {},
   "source": [
    "**Teorema.**\n",
    "Seja $f \\in C^2\\!\\left[a, b\\right]$.  \n",
    "Suponha que existe $\\xi \\in \\left( a, b \\right)$ tal que $f(\\xi) = 0$ e $f'(\\xi) \\ne 0$.  \n",
    "Então existirá $\\delta > 0$ tal que, para qualquer chute inicial $x_0 \\in \\left[\\xi - \\delta, \\, \\xi + \\delta\\right]$, a sequência $\\{x_n\\}_{n = 0}^\\infty$ gerada pelo método de Newton **converge** para $\\xi$."
   ]
  },
  {
   "cell_type": "markdown",
   "metadata": {
    "slideshow": {
     "slide_type": "slide"
    }
   },
   "source": [
    "## Exemplo"
   ]
  },
  {
   "cell_type": "markdown",
   "metadata": {},
   "source": [
    "Considere $f(x) = \\cos x - x$, definida em Python abaixo."
   ]
  },
  {
   "cell_type": "code",
   "execution_count": 1,
   "metadata": {},
   "outputs": [],
   "source": [
    "import numpy as np\n",
    "\n",
    "def f(x):\n",
    "    return np.cos(x) - x"
   ]
  },
  {
   "cell_type": "markdown",
   "metadata": {
    "slideshow": {
     "slide_type": "skip"
    }
   },
   "source": [
    "Usaremos a função a seguir para plotar o gráfico de $f$."
   ]
  },
  {
   "cell_type": "code",
   "execution_count": 2,
   "metadata": {
    "slideshow": {
     "slide_type": "skip"
    }
   },
   "outputs": [],
   "source": [
    "import matplotlib.pyplot as plt\n",
    "\n",
    "# Criando um gráfico com os eixos coordenados\n",
    "def plota(f,a,b,diagonal=False,quadrado=False):\n",
    "    fig, ax = plt.subplots()\n",
    "    ax.set_ylabel('f(x)')\n",
    "    ax.set_xlabel('x')\n",
    "    ax.grid()\n",
    "    \n",
    "    #https://stackoverflow.com/questions/25689238/show-origin-axis-x-y-in-matplotlib-plot\n",
    "    # set the x-spine (see below for more info on `set_position`)\n",
    "    plt.axhline(0, color='black', linewidth=1)\n",
    "\n",
    "    x = np.linspace(a,b,100)\n",
    "    y = f(x)\n",
    "    ax.plot(x,y)\n",
    "    if (diagonal):\n",
    "        ax.plot(x,x)\n",
    "        \n",
    "    plt.xlim([a, b])\n",
    "    if (quadrado):\n",
    "        plt.ylim([a, b])\n",
    "\n",
    "    plt.show()"
   ]
  },
  {
   "cell_type": "code",
   "execution_count": 3,
   "metadata": {},
   "outputs": [
    {
     "data": {
      "image/png": "[encoded data removed]",
      "text/plain": [
       "<Figure size 432x288 with 1 Axes>"
      ]
     },
     "metadata": {
      "needs_background": "light"
     },
     "output_type": "display_data"
    }
   ],
   "source": [
    "plota(f,0,1)"
   ]
  },
  {
   "cell_type": "markdown",
   "metadata": {
    "slideshow": {
     "slide_type": "slide"
    }
   },
   "source": [
    "## Exemplo"
   ]
  },
  {
   "cell_type": "markdown",
   "metadata": {},
   "source": [
    "**Teorema.**\n",
    "Seja $f \\in C^2\\!\\left[a, b\\right]$.  \n",
    "Suponha que existe $\\xi \\in \\left( a, b \\right)$ tal que $f(\\xi) = 0$ e $f'(\\xi) \\ne 0$.  \n",
    "Então existirá $\\delta > 0$ tal que, para qualquer chute inicial $x_0 \\in \\left[\\xi - \\delta, \\, \\xi + \\delta\\right]$, a sequência $\\{x_n\\}_{n = 0}^\\infty$ gerada pelo método de Newton **converge** para $\\xi$."
   ]
  },
  {
   "cell_type": "markdown",
   "metadata": {},
   "source": [
    "Agora, analisemos se $f$ atende ao teorema acima.\n",
    "Primeiramente, a continuidade de $f$, $f'$ e $f''$ pode ser justificada pela continuidade de suas parcelas.\n",
    "Além disso,"
   ]
  },
  {
   "cell_type": "code",
   "execution_count": 4,
   "metadata": {},
   "outputs": [
    {
     "data": {
      "text/plain": [
       "-0.45969769413186023"
      ]
     },
     "execution_count": 4,
     "metadata": {},
     "output_type": "execute_result"
    }
   ],
   "source": [
    "f(0)*f(1)"
   ]
  },
  {
   "cell_type": "markdown",
   "metadata": {
    "slideshow": {
     "slide_type": "slide"
    }
   },
   "source": [
    "## Exemplo"
   ]
  },
  {
   "cell_type": "markdown",
   "metadata": {},
   "source": [
    "**Teorema.**\n",
    "Seja $f \\in C^2\\!\\left[a, b\\right]$.  \n",
    "Suponha que existe $\\xi \\in \\left( a, b \\right)$ tal que $f(\\xi) = 0$ e $f'(\\xi) \\ne 0$.  \n",
    "Então existirá $\\delta > 0$ tal que, para qualquer chute inicial $x_0 \\in \\left[\\xi - \\delta, \\, \\xi + \\delta\\right]$, a sequência $\\{x_n\\}_{n = 0}^\\infty$ gerada pelo método de Newton **converge** para $\\xi$."
   ]
  },
  {
   "cell_type": "markdown",
   "metadata": {},
   "source": [
    "A derivada de $f$ vale:"
   ]
  },
  {
   "cell_type": "markdown",
   "metadata": {},
   "source": [
    "$$f'(x) = - \\operatorname{sen}(x) - 1$$"
   ]
  },
  {
   "cell_type": "markdown",
   "metadata": {
    "slideshow": {
     "slide_type": "slide"
    }
   },
   "source": [
    "## Exemplo"
   ]
  },
  {
   "cell_type": "markdown",
   "metadata": {},
   "source": [
    "**Teorema.**\n",
    "Seja $f \\in C^2\\!\\left[a, b\\right]$.  \n",
    "Suponha que existe $\\xi \\in \\left( a, b \\right)$ tal que $f(\\xi) = 0$ e $f'(\\xi) \\ne 0$.  \n",
    "Então existirá $\\delta > 0$ tal que, para qualquer chute inicial $x_0 \\in \\left[\\xi - \\delta, \\, \\xi + \\delta\\right]$, a sequência $\\{x_n\\}_{n = 0}^\\infty$ gerada pelo método de Newton **converge** para $\\xi$."
   ]
  },
  {
   "cell_type": "markdown",
   "metadata": {},
   "source": [
    "Como o intervalo $(0,1)$ é sub-intervalo de $(0,\\frac{\\pi}{2})$, verificaremos se $f'$ se anula neste último intervalo, por conveniência.\n",
    "Ora, $\\operatorname{sen}(x) > 0$, para todo $x$ em $(0,\\frac{\\pi}{2})$. Logo,"
   ]
  },
  {
   "cell_type": "markdown",
   "metadata": {},
   "source": [
    "$$\n",
    "- \\operatorname{sen}(x) - 1 < 0.\n",
    "$$"
   ]
  },
  {
   "cell_type": "markdown",
   "metadata": {},
   "source": [
    "Portanto, o método de Newton convergirá para chutes $x_0$ suficientemente próximos de $\\xi$."
   ]
  },
  {
   "cell_type": "markdown",
   "metadata": {
    "slideshow": {
     "slide_type": "slide"
    }
   },
   "source": [
    "## Implementação"
   ]
  },
  {
   "cell_type": "code",
   "execution_count": 2,
   "metadata": {},
   "outputs": [],
   "source": [
    "def newton(f,df,p0,tol,N,tabela=False):\n",
    "    if (tabela): # Imprime cabeçalho da tabela, caso desejado\n",
    "        print(f\"{'i':11s} {'p0':^12s} {'p':^12s} {'|p - p0|':^12s}\")\n",
    "        \n",
    "    i = 1\n",
    "    while i <= N:\n",
    "        p = p0 - f(p0)/df(p0)\n",
    "        \n",
    "        if (tabela): # Imprime os dados da iteração\n",
    "            print(f\"{i:^11d} {p0:+.5e} {p:+.5e} {abs(p - p0):+.5e}\")\n",
    "            \n",
    "        err = tol*max(1.0, abs(p))\n",
    "        if abs(p - p0) < err:\n",
    "            break\n",
    "        i = i + 1\n",
    "        p0 = p\n",
    "        \n",
    "    if i > N:\n",
    "        print(\"Número máximo de iterações atingido!\")\n",
    "        i = i - 1\n",
    "        \n",
    "    return i,p"
   ]
  },
  {
   "cell_type": "markdown",
   "metadata": {
    "slideshow": {
     "slide_type": "slide"
    }
   },
   "source": [
    "## Exemplo"
   ]
  },
  {
   "cell_type": "markdown",
   "metadata": {},
   "source": [
    "Suponha que desejamos calcular o zero de $f(x) = x - 1 + \\sqrt{2}\\cos x$ em $[-1,0]$.\n",
    "Sua derivada é $f'(x) = 1 - \\sqrt{2}\\operatorname{sen}(x)$."
   ]
  },
  {
   "cell_type": "markdown",
   "metadata": {},
   "source": [
    "Definimos $f$ e $f'$ em Python:"
   ]
  },
  {
   "cell_type": "code",
   "execution_count": 3,
   "metadata": {},
   "outputs": [],
   "source": [
    "def f(x):\n",
    "    return x*np.log(x) - 1.0\n",
    "\n",
    "def df(x):\n",
    "    return np.log(x) + 1.0"
   ]
  },
  {
   "cell_type": "code",
   "execution_count": 5,
   "metadata": {},
   "outputs": [
    {
     "name": "stdout",
     "output_type": "stream",
     "text": [
      "i                p0           p         |p - p0|  \n",
      "     1      +1.50000e+00 +1.77877e+00 +2.78771e-01\n",
      "     2      +1.77877e+00 +1.76327e+00 +1.55045e-02\n"
     ]
    },
    {
     "data": {
      "text/plain": [
       "(2, 1.7632660777393083)"
      ]
     },
     "execution_count": 5,
     "metadata": {},
     "output_type": "execute_result"
    }
   ],
   "source": [
    "newton(f,df,1.5,1e-2,1000,True)"
   ]
  },
  {
   "cell_type": "markdown",
   "metadata": {
    "slideshow": {
     "slide_type": "slide"
    }
   },
   "source": [
    "## Exemplo"
   ]
  },
  {
   "cell_type": "markdown",
   "metadata": {},
   "source": [
    "Agora, vamos aproximar o zero de $f(x) = \\cos x - x$ localizado em $[0,1]$."
   ]
  },
  {
   "cell_type": "code",
   "execution_count": 8,
   "metadata": {},
   "outputs": [],
   "source": [
    "def f(x):\n",
    "    return np.cos(x) - x\n",
    "\n",
    "def df(x):\n",
    "    return -np.sin(x) - 1.0"
   ]
  },
  {
   "cell_type": "code",
   "execution_count": 9,
   "metadata": {
    "scrolled": true
   },
   "outputs": [
    {
     "name": "stdout",
     "output_type": "stream",
     "text": [
      "i                p0           p         |p - p0|  \n",
      "     1      +5.00000e-01 +7.55222e-01 +2.55222e-01\n",
      "     2      +7.55222e-01 +7.39142e-01 +1.60808e-02\n",
      "     3      +7.39142e-01 +7.39085e-01 +5.65322e-05\n",
      "     4      +7.39085e-01 +7.39085e-01 +7.05646e-10\n",
      "     5      +7.39085e-01 +7.39085e-01 +0.00000e+00\n"
     ]
    },
    {
     "data": {
      "text/plain": [
       "(5, 0.7390851332151607)"
      ]
     },
     "execution_count": 9,
     "metadata": {},
     "output_type": "execute_result"
    }
   ],
   "source": [
    "newton(f,df,0.5,1e-10,100,True)"
   ]
  },
  {
   "cell_type": "markdown",
   "metadata": {
    "slideshow": {
     "slide_type": "slide"
    }
   },
   "source": [
    "## Exemplo"
   ]
  },
  {
   "cell_type": "markdown",
   "metadata": {},
   "source": [
    "Voltemos agora ao problema de aproximar o valor de $\\xi = \\sqrt{2}$.\n",
    "Sabemos que $\\xi$ é um zero de $\\displaystyle f(x) = x^2 - 2$. Então"
   ]
  },
  {
   "cell_type": "code",
   "execution_count": 10,
   "metadata": {},
   "outputs": [],
   "source": [
    "def f(x):\n",
    "    return x**2 - 2.0\n",
    "\n",
    "def df(x):\n",
    "    return 2.0*x"
   ]
  },
  {
   "cell_type": "code",
   "execution_count": 11,
   "metadata": {},
   "outputs": [
    {
     "name": "stdout",
     "output_type": "stream",
     "text": [
      "i                p0           p         |p - p0|  \n",
      "     1      +1.50000e+00 +1.41667e+00 +8.33333e-02\n",
      "     2      +1.41667e+00 +1.41422e+00 +2.45098e-03\n",
      "     3      +1.41422e+00 +1.41421e+00 +2.12390e-06\n",
      "     4      +1.41421e+00 +1.41421e+00 +1.59472e-12\n"
     ]
    },
    {
     "data": {
      "text/plain": [
       "(4, 1.4142135623730951)"
      ]
     },
     "execution_count": 11,
     "metadata": {},
     "output_type": "execute_result"
    }
   ],
   "source": [
    "newton(f,df,1.5,1e-10,100,True)"
   ]
  },
  {
   "cell_type": "markdown",
   "metadata": {
    "slideshow": {
     "slide_type": "slide"
    }
   },
   "source": [
    "## Problemas com o chute inicial"
   ]
  },
  {
   "cell_type": "markdown",
   "metadata": {},
   "source": [
    "Vejamos o que acontece ao tentarmos aproximar as raízes de  $f(x) = x^3 - 2x^2 - 11x + 12$ tomando diferentes valores iniciais."
   ]
  },
  {
   "cell_type": "code",
   "execution_count": 12,
   "metadata": {},
   "outputs": [],
   "source": [
    "def f(x):\n",
    "    return x**3 - 2*x**2 - 11*x + 12\n",
    "\n",
    "def df(x):\n",
    "    return 3*x**2 - 4*x - 11"
   ]
  },
  {
   "cell_type": "markdown",
   "metadata": {
    "slideshow": {
     "slide_type": "slide"
    }
   },
   "source": [
    "## Problemas com o chute inicial"
   ]
  },
  {
   "cell_type": "markdown",
   "metadata": {},
   "source": [
    "Vejamos o que acontece ao tentarmos aproximar as raízes de  $f(x) = x^3 - 2x^2 - 11x + 12$ tomando diferentes valores iniciais."
   ]
  },
  {
   "cell_type": "code",
   "execution_count": 13,
   "metadata": {},
   "outputs": [
    {
     "data": {
      "text/plain": [
       "(25, 4.000000000000001)"
      ]
     },
     "execution_count": 13,
     "metadata": {},
     "output_type": "execute_result"
    }
   ],
   "source": [
    "newton(f,df,2.35283735,1e-5,100)"
   ]
  },
  {
   "cell_type": "markdown",
   "metadata": {
    "slideshow": {
     "slide_type": "slide"
    }
   },
   "source": [
    "## Problemas com o chute inicial"
   ]
  },
  {
   "cell_type": "markdown",
   "metadata": {},
   "source": [
    "Vejamos o que acontece ao tentarmos aproximar as raízes de  $f(x) = x^3 - 2x^2 - 11x + 12$ tomando diferentes valores iniciais."
   ]
  },
  {
   "cell_type": "code",
   "execution_count": 14,
   "metadata": {},
   "outputs": [
    {
     "data": {
      "text/plain": [
       "(15, 1.0)"
      ]
     },
     "execution_count": 14,
     "metadata": {},
     "output_type": "execute_result"
    }
   ],
   "source": [
    "newton(f,df,2.35283632,1e-5,100)\n",
    "           #2.35283735"
   ]
  },
  {
   "cell_type": "markdown",
   "metadata": {
    "slideshow": {
     "slide_type": "slide"
    }
   },
   "source": [
    "## Problemas com o chute inicial"
   ]
  },
  {
   "cell_type": "markdown",
   "metadata": {},
   "source": [
    "Vejamos o que acontece ao tentarmos aproximar as raízes de  $f(x) = x^3 - 2x^2 - 11x + 12$ tomando diferentes valores iniciais."
   ]
  },
  {
   "cell_type": "code",
   "execution_count": 15,
   "metadata": {},
   "outputs": [
    {
     "data": {
      "text/plain": [
       "(32, -2.9999999999999996)"
      ]
     },
     "execution_count": 15,
     "metadata": {},
     "output_type": "execute_result"
    }
   ],
   "source": [
    "newton(f,df,2.352841720,1e-5,100)\n",
    "           #2.35283735"
   ]
  },
  {
   "cell_type": "markdown",
   "metadata": {
    "slideshow": {
     "slide_type": "slide"
    }
   },
   "source": [
    "## Problemas com ciclos"
   ]
  },
  {
   "cell_type": "markdown",
   "metadata": {},
   "source": [
    "Por se tratar de um método do ponto fixo, o método de Newton também pode sofrer com ciclos.  \n",
    "Vejamos da função $ f(x) = x^3 - 2x + 2$ com $p_0 = 0$."
   ]
  },
  {
   "cell_type": "code",
   "execution_count": 16,
   "metadata": {},
   "outputs": [],
   "source": [
    "def f(x):\n",
    "    return x**3 - 2*x + 2\n",
    "\n",
    "def df(x):\n",
    "    return 3*x**2 - 2"
   ]
  },
  {
   "cell_type": "code",
   "execution_count": 17,
   "metadata": {},
   "outputs": [
    {
     "data": {
      "text/plain": [
       "(7, -1.7692923542973595)"
      ]
     },
     "execution_count": 17,
     "metadata": {},
     "output_type": "execute_result"
    }
   ],
   "source": [
    "newton(f,df,-1.0,1e-5,100)"
   ]
  },
  {
   "cell_type": "markdown",
   "metadata": {
    "slideshow": {
     "slide_type": "slide"
    }
   },
   "source": [
    "## Método da secante"
   ]
  },
  {
   "cell_type": "markdown",
   "metadata": {},
   "source": [
    "Embora o método de Newton seja extremamente eficiente, ele pode ser melhorado do ponto de vista computacional."
   ]
  },
  {
   "cell_type": "markdown",
   "metadata": {},
   "source": [
    "Observe que a cada iteração, precisamos avaliar tanto $f$ quanto $f'$ em $x_n$."
   ]
  },
  {
   "cell_type": "markdown",
   "metadata": {},
   "source": [
    "$$\n",
    "x_{n+1} = x_n - \\frac{f(x_n)}{f'(x_n)}\n",
    "$$"
   ]
  },
  {
   "cell_type": "markdown",
   "metadata": {
    "slideshow": {
     "slide_type": "slide"
    }
   },
   "source": [
    "## Método da secante"
   ]
  },
  {
   "cell_type": "markdown",
   "metadata": {},
   "source": [
    "O **método da secante** reduz o custo computacional da iteração de Newton tomando a seguinte aproximação:"
   ]
  },
  {
   "cell_type": "markdown",
   "metadata": {},
   "source": [
    "$$\n",
    "f'(x_{n}) = \\lim_{x \\to x_n} \\frac{f(x) - f(x_n)}{x - x_n} \\approx \\frac{f(x) - f(x_n)}{x - x_n}\n",
    "$$"
   ]
  },
  {
   "cell_type": "markdown",
   "metadata": {},
   "source": [
    "para $x_n$ suficientemente próximo de $x$."
   ]
  },
  {
   "cell_type": "markdown",
   "metadata": {
    "slideshow": {
     "slide_type": "slide"
    }
   },
   "source": [
    "## Método da secante"
   ]
  },
  {
   "cell_type": "markdown",
   "metadata": {},
   "source": [
    "Por exemplo, tomando $x = x_0$ e $x_1$ suficiente próximos, teremos"
   ]
  },
  {
   "cell_type": "markdown",
   "metadata": {},
   "source": [
    "$$\n",
    "f'(x_1) \\approx \\frac{f(x_0) - f(x_1)}{x_0 - x_1} = \\frac{f(x_1) - f(x_0)}{x_1 - x_0}\n",
    "$$"
   ]
  },
  {
   "cell_type": "markdown",
   "metadata": {},
   "source": [
    "Substituindo essa fórmula na iteração de Newton, chegamos a"
   ]
  },
  {
   "cell_type": "markdown",
   "metadata": {},
   "source": [
    "$$\n",
    "x_{2} = x_1 - \\frac{f(x_1)(x_1 - x_0)}{f(x_1) - f(x_0)}\n",
    "$$"
   ]
  },
  {
   "cell_type": "markdown",
   "metadata": {
    "slideshow": {
     "slide_type": "slide"
    }
   },
   "source": [
    "## Método da secante"
   ]
  },
  {
   "cell_type": "markdown",
   "metadata": {},
   "source": [
    "De modo geral, dados $x_{n}$ e $x_{n-1}$ suficiente próximos, teremos a seguinte função de iteração"
   ]
  },
  {
   "cell_type": "markdown",
   "metadata": {},
   "source": [
    "$$\n",
    "x_{n+1} = x_n - \\frac{f(x_n)(x_n - x_{n-1})}{f(x_n) - f(x_{n-1})}\n",
    "$$"
   ]
  },
  {
   "cell_type": "markdown",
   "metadata": {},
   "source": [
    "Guardando o valor de $f(x_{n-1})$ da iteração anterior, precisaremos avaliar $f$ em $x_n$ uma única vez a cada passo.  \n",
    "Observe apenas o detalhe de que agora são necessários dois chutes iniciais, $x_0$ e $x_1$."
   ]
  },
  {
   "cell_type": "markdown",
   "metadata": {
    "slideshow": {
     "slide_type": "slide"
    }
   },
   "source": [
    "## Implementação do método da secante"
   ]
  },
  {
   "cell_type": "code",
   "execution_count": 1,
   "metadata": {},
   "outputs": [],
   "source": [
    "def secante(f,p0,p1,tol,N,tabela=False):\n",
    "    if (tabela):\n",
    "        print(f\"{'i':11s} {'p1':^12s} {'p':^12s} {'|p - p1|':^12s}\")\n",
    "    \n",
    "    # guardamos os valores de f iniciais\n",
    "    fp0 = f(p0)\n",
    "    fp1 = f(p1)\n",
    "    i = 2\n",
    "    while i <= N:\n",
    "        p = p1 - fp1*(p1 - p0)/(fp1 - fp0)\n",
    "        \n",
    "        if (tabela): # Imprime os dados da iteração\n",
    "            print(f\"{i:^11d} {p1:+.5e} {p:+.5e} {abs(p - p1):+.5e}\")\n",
    "            \n",
    "        err = tol*max(1.0, abs(p))\n",
    "        if abs(p - p1) < err:\n",
    "            break\n",
    "            \n",
    "        i = i + 1\n",
    "        # atualização de p0 e p1\n",
    "        p0  = p1\n",
    "        fp0 = fp1\n",
    "        p1  = p\n",
    "        fp1 = f(p)\n",
    "        \n",
    "    if i > N:\n",
    "        print(\"Número máximo de iterações atingido!\")\n",
    "        i = i - 1\n",
    "        \n",
    "    return i,p"
   ]
  },
  {
   "cell_type": "markdown",
   "metadata": {
    "slideshow": {
     "slide_type": "slide"
    }
   },
   "source": [
    "## Exemplo"
   ]
  },
  {
   "cell_type": "markdown",
   "metadata": {},
   "source": [
    "Utilize o método da secante para aproximar o zero de $f(x) = \\cos x - x$ localizado em $[0,1]$."
   ]
  },
  {
   "cell_type": "code",
   "execution_count": 5,
   "metadata": {},
   "outputs": [],
   "source": [
    "import numpy as np\n",
    "\n",
    "def f(x):\n",
    "    return np.cos(x) - x\n",
    "\n",
    "def df(x):\n",
    "    return -np.sin(x) - 1"
   ]
  },
  {
   "cell_type": "markdown",
   "metadata": {
    "slideshow": {
     "slide_type": "slide"
    }
   },
   "source": [
    "## Exemplo"
   ]
  },
  {
   "cell_type": "code",
   "execution_count": 6,
   "metadata": {
    "scrolled": true
   },
   "outputs": [
    {
     "name": "stdout",
     "output_type": "stream",
     "text": [
      "i                p1           p         |p - p1|  \n",
      "     2      +7.85398e-01 +7.28373e-01 +5.70253e-02\n",
      "     3      +7.28373e-01 +7.38978e-01 +1.06048e-02\n",
      "     4      +7.38978e-01 +7.39085e-01 +1.07768e-04\n",
      "     5      +7.39085e-01 +7.39085e-01 +2.55755e-07\n"
     ]
    },
    {
     "data": {
      "text/plain": [
       "(5, 0.739085133209089)"
      ]
     },
     "execution_count": 6,
     "metadata": {},
     "output_type": "execute_result"
    }
   ],
   "source": [
    "secante(f,0.0,np.pi/4,1e-5,100,True)"
   ]
  },
  {
   "cell_type": "code",
   "execution_count": 9,
   "metadata": {
    "scrolled": false
   },
   "outputs": [
    {
     "name": "stdout",
     "output_type": "stream",
     "text": [
      "i                p0           p         |p - p0|  \n",
      "     1      +7.85398e-01 +7.39536e-01 +4.58620e-02\n",
      "     2      +7.39536e-01 +7.39085e-01 +4.50955e-04\n",
      "     3      +7.39085e-01 +7.39085e-01 +4.48908e-08\n"
     ]
    },
    {
     "data": {
      "text/plain": [
       "(3, 0.7390851332151611)"
      ]
     },
     "execution_count": 9,
     "metadata": {},
     "output_type": "execute_result"
    }
   ],
   "source": [
    "newton(f,df,np.pi/4,1e-5,100,True)"
   ]
  },
  {
   "cell_type": "markdown",
   "metadata": {
    "slideshow": {
     "slide_type": "slide"
    }
   },
   "source": [
    "## Exemplo"
   ]
  },
  {
   "cell_type": "markdown",
   "metadata": {},
   "source": [
    "Novamente, retornamos ao problema de aproximar o valor de $\\xi = \\sqrt{2}$.\n",
    "Sabemos que $\\xi$ é um zero de $\\displaystyle f(x) = x^2 - 2$."
   ]
  },
  {
   "cell_type": "code",
   "execution_count": 10,
   "metadata": {},
   "outputs": [],
   "source": [
    "def f(x):\n",
    "    return x**2 - 2.0\n",
    "\n",
    "def df(x):\n",
    "    return 2.0*x"
   ]
  },
  {
   "cell_type": "code",
   "execution_count": 15,
   "metadata": {},
   "outputs": [
    {
     "name": "stdout",
     "output_type": "stream",
     "text": [
      "i                p0           p         |p - p0|  \n",
      "     1      +1.00000e+00 +1.50000e+00 +5.00000e-01\n",
      "     2      +1.50000e+00 +1.41667e+00 +8.33333e-02\n",
      "     3      +1.41667e+00 +1.41422e+00 +2.45098e-03\n",
      "     4      +1.41422e+00 +1.41421e+00 +2.12390e-06\n",
      "     5      +1.41421e+00 +1.41421e+00 +1.59472e-12\n"
     ]
    },
    {
     "data": {
      "text/plain": [
       "(5, 1.4142135623730951)"
      ]
     },
     "execution_count": 15,
     "metadata": {},
     "output_type": "execute_result"
    }
   ],
   "source": [
    "newton(f,df,1.0,1e-10,100,True)"
   ]
  },
  {
   "cell_type": "code",
   "execution_count": 12,
   "metadata": {
    "scrolled": true
   },
   "outputs": [
    {
     "name": "stdout",
     "output_type": "stream",
     "text": [
      "i                p1           p         |p - p1|  \n",
      "     2      +2.00000e+00 +1.33333e+00 +6.66667e-01\n",
      "     3      +1.33333e+00 +1.40000e+00 +6.66667e-02\n",
      "     4      +1.40000e+00 +1.41463e+00 +1.46341e-02\n",
      "     5      +1.41463e+00 +1.41421e+00 +4.22708e-04\n",
      "     6      +1.41421e+00 +1.41421e+00 +2.12358e-06\n",
      "     7      +1.41421e+00 +1.41421e+00 +3.15775e-10\n",
      "     8      +1.41421e+00 +1.41421e+00 +2.22045e-16\n"
     ]
    },
    {
     "data": {
      "text/plain": [
       "(8, 1.4142135623730951)"
      ]
     },
     "execution_count": 12,
     "metadata": {},
     "output_type": "execute_result"
    }
   ],
   "source": [
    "secante(f,1.0,2.0,1e-10,100,True)"
   ]
  },
  {
   "cell_type": "markdown",
   "metadata": {
    "slideshow": {
     "slide_type": "slide"
    }
   },
   "source": [
    "## Método da posição falsa"
   ]
  },
  {
   "cell_type": "markdown",
   "metadata": {},
   "source": [
    "Embora os métodos de Newton e da secante possuam convergência rápida, é muito difícil garantir que os chute inicial é suficientemente próximo da raiz $\\xi$."
   ]
  },
  {
   "cell_type": "markdown",
   "metadata": {},
   "source": [
    "Uma vantagem que tínhamos no método da bisseção e que perdemos aqui, é a garantia de que a $\\xi$ estará sempre encurralada em um intervalo de busca."
   ]
  },
  {
   "cell_type": "markdown",
   "metadata": {},
   "source": [
    "Fazendo alguns ajustes, podemos incorporar essa propriedade do método da bisseção aos métodos de Newton ou da secante."
   ]
  },
  {
   "cell_type": "markdown",
   "metadata": {},
   "source": [
    "Isso nos leva ao método conhecido como **método da posição falsa** ou **método regula falsi**."
   ]
  },
  {
   "cell_type": "markdown",
   "metadata": {
    "slideshow": {
     "slide_type": "slide"
    }
   },
   "source": [
    "## Método da posição falsa"
   ]
  },
  {
   "cell_type": "code",
   "execution_count": 16,
   "metadata": {},
   "outputs": [],
   "source": [
    "def regula_falsi(f,p0,p1,tol,N,tabela=False):\n",
    "    fp0 = f(p0)\n",
    "    fp1 = f(p1)\n",
    "    assert (np.sign(fp0)*np.sign(fp1) < 0) # Teste de Bolzano\n",
    "    \n",
    "    if (tabela): # Imprime cabeçalho da tabela, caso desejado\n",
    "        print(f\"{'i':11s} {'p1':^12s} {'p':^12s} {'|p - p1|':^12s}\")\n",
    "    \n",
    "    i = 2\n",
    "    while i <= N:\n",
    "        p = p1 - fp1*(p1 - p0)/(fp1 - fp0) # método da secante\n",
    "        \n",
    "        if (tabela): # Imprime os dados da iteração\n",
    "            print(f\"{i:^11d} {p1:+.5e} {p:+.5e} {abs(p - p1):+.5e}\")\n",
    "            \n",
    "        err = tol*max(1.0, abs(p))\n",
    "        if abs(p - p1) < err:\n",
    "            break\n",
    "            \n",
    "        # próxima iteração\n",
    "        i = i + 1\n",
    "        fp = f(p)\n",
    "        \n",
    "        # atualização de p0\n",
    "        if np.sign(fp)*np.sign(fp1) < 0:\n",
    "            p0  = p1\n",
    "            fp0 = fp1     \n",
    "        \n",
    "        # atualização de p1\n",
    "        p1  = p\n",
    "        fp1 = fp\n",
    "        \n",
    "    if i > N:\n",
    "        print(\"Número máximo de iterações atingido!\")\n",
    "        i = i - 1\n",
    "        \n",
    "    return i,p"
   ]
  },
  {
   "cell_type": "markdown",
   "metadata": {
    "slideshow": {
     "slide_type": "slide"
    }
   },
   "source": [
    "## Exemplo"
   ]
  },
  {
   "cell_type": "code",
   "execution_count": 17,
   "metadata": {},
   "outputs": [],
   "source": [
    "def f(x):\n",
    "    return x**2 - 2.0\n",
    "\n",
    "def df(x):\n",
    "    return 2.0*x"
   ]
  },
  {
   "cell_type": "code",
   "execution_count": 18,
   "metadata": {},
   "outputs": [
    {
     "data": {
      "text/plain": [
       "(5, 1.4142135623730951)"
      ]
     },
     "execution_count": 18,
     "metadata": {},
     "output_type": "execute_result"
    }
   ],
   "source": [
    "newton(f,df,1.0,1e-10,100)\n",
    "# ordem 2"
   ]
  },
  {
   "cell_type": "code",
   "execution_count": 19,
   "metadata": {
    "scrolled": true
   },
   "outputs": [
    {
     "data": {
      "text/plain": [
       "(8, 1.4142135623730951)"
      ]
     },
     "execution_count": 19,
     "metadata": {},
     "output_type": "execute_result"
    }
   ],
   "source": [
    "secante(f,1.0,2.0,1e-10,100)\n",
    "# ordem ~ 1.61"
   ]
  },
  {
   "cell_type": "code",
   "execution_count": 20,
   "metadata": {
    "scrolled": true
   },
   "outputs": [
    {
     "data": {
      "text/plain": [
       "(15, 1.4142135623637995)"
      ]
     },
     "execution_count": 20,
     "metadata": {},
     "output_type": "execute_result"
    }
   ],
   "source": [
    "regula_falsi(f,1.0,2.0,1e-10,100)\n",
    "# ordem ~ 1"
   ]
  },
  {
   "cell_type": "markdown",
   "metadata": {
    "slideshow": {
     "slide_type": "slide"
    }
   },
   "source": [
    "Vicente Helano  \n",
    "UFCA | Centro de Ciências e Tecnologia"
   ]
  }
 ],
 "metadata": {
  "celltoolbar": "Slideshow",
  "kernelspec": {
   "display_name": "Python 3 (ipykernel)",
   "language": "python",
   "name": "python3"
  },
  "language_info": {
   "codemirror_mode": {
    "name": "ipython",
    "version": 3
   },
   "file_extension": ".py",
   "mimetype": "text/x-python",
   "name": "python",
   "nbconvert_exporter": "python",
   "pygments_lexer": "ipython3",
   "version": "3.9.2"
  }
 },
 "nbformat": 4,
 "nbformat_minor": 4
}
